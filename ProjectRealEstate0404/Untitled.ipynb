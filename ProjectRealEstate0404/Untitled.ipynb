{
 "cells": [
  {
   "cell_type": "code",
   "execution_count": 1,
   "metadata": {},
   "outputs": [
    {
     "data": {
      "text/html": [
       "<div>\n",
       "<style scoped>\n",
       "    .dataframe tbody tr th:only-of-type {\n",
       "        vertical-align: middle;\n",
       "    }\n",
       "\n",
       "    .dataframe tbody tr th {\n",
       "        vertical-align: top;\n",
       "    }\n",
       "\n",
       "    .dataframe thead th {\n",
       "        text-align: right;\n",
       "    }\n",
       "</style>\n",
       "<table border=\"1\" class=\"dataframe\">\n",
       "  <thead>\n",
       "    <tr style=\"text-align: right;\">\n",
       "      <th></th>\n",
       "      <th>State</th>\n",
       "      <th>Year</th>\n",
       "      <th>Active Listing Count</th>\n",
       "      <th>Avg Listing Price</th>\n",
       "    </tr>\n",
       "  </thead>\n",
       "  <tbody>\n",
       "    <tr>\n",
       "      <th>0</th>\n",
       "      <td>AK</td>\n",
       "      <td>2012</td>\n",
       "      <td>26495.0</td>\n",
       "      <td>301629.249012</td>\n",
       "    </tr>\n",
       "    <tr>\n",
       "      <th>1</th>\n",
       "      <td>AL</td>\n",
       "      <td>2012</td>\n",
       "      <td>312875.0</td>\n",
       "      <td>193571.345029</td>\n",
       "    </tr>\n",
       "    <tr>\n",
       "      <th>2</th>\n",
       "      <td>AR</td>\n",
       "      <td>2012</td>\n",
       "      <td>148267.0</td>\n",
       "      <td>190982.723735</td>\n",
       "    </tr>\n",
       "    <tr>\n",
       "      <th>3</th>\n",
       "      <td>AZ</td>\n",
       "      <td>2012</td>\n",
       "      <td>255573.0</td>\n",
       "      <td>274091.164454</td>\n",
       "    </tr>\n",
       "    <tr>\n",
       "      <th>4</th>\n",
       "      <td>CA</td>\n",
       "      <td>2012</td>\n",
       "      <td>815351.0</td>\n",
       "      <td>584730.605448</td>\n",
       "    </tr>\n",
       "  </tbody>\n",
       "</table>\n",
       "</div>"
      ],
      "text/plain": [
       "  State  Year  Active Listing Count  Avg Listing Price\n",
       "0    AK  2012               26495.0      301629.249012\n",
       "1    AL  2012              312875.0      193571.345029\n",
       "2    AR  2012              148267.0      190982.723735\n",
       "3    AZ  2012              255573.0      274091.164454\n",
       "4    CA  2012              815351.0      584730.605448"
      ]
     },
     "execution_count": 1,
     "metadata": {},
     "output_type": "execute_result"
    }
   ],
   "source": [
    "from pymongo import MongoClient\n",
    "import pandas as pd\n",
    "client = MongoClient()\n",
    "db=client.test\n",
    "housing_data = db.housing_data\n",
    "df = pd.read_csv(\"State_housing_price_agg.csv\") #csv file which you want to import\n",
    "records_ = df.to_dict(orient = 'records')\n",
    "result = db.housing_data.insert_many(records_ )\n",
    "df.head()"
   ]
  },
  {
   "cell_type": "code",
   "execution_count": null,
   "metadata": {},
   "outputs": [],
   "source": []
  }
 ],
 "metadata": {
  "kernelspec": {
   "display_name": "Python 3 (nisha_work_correct)",
   "language": "python",
   "name": "nisha_work"
  },
  "language_info": {
   "codemirror_mode": {
    "name": "ipython",
    "version": 3
   },
   "file_extension": ".py",
   "mimetype": "text/x-python",
   "name": "python",
   "nbconvert_exporter": "python",
   "pygments_lexer": "ipython3",
   "version": "3.6.8"
  }
 },
 "nbformat": 4,
 "nbformat_minor": 2
}
